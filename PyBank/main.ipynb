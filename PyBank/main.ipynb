{
 "cells": [
  {
   "cell_type": "code",
   "execution_count": 309,
   "metadata": {},
   "outputs": [],
   "source": [
    "#imports\n",
    "from pathlib import Path\n",
    "import csv"
   ]
  },
  {
   "cell_type": "code",
   "execution_count": 310,
   "metadata": {},
   "outputs": [],
   "source": [
    "# init file path and data container\n",
    "data_path = Path(\"Resources/budget_data.csv\")\n",
    "data = []"
   ]
  },
  {
   "cell_type": "code",
   "execution_count": 311,
   "metadata": {},
   "outputs": [
    {
     "data": {
      "text/plain": [
       "[['Date', 'Profit/Losses'],\n",
       " ['Jan-2010', '867884'],\n",
       " ['Feb-2010', '984655'],\n",
       " ['Mar-2010', '322013'],\n",
       " ['Apr-2010', '-69417']]"
      ]
     },
     "execution_count": 311,
     "metadata": {},
     "output_type": "execute_result"
    }
   ],
   "source": [
    "# read file and assign values to container\n",
    "with open(data_path, \"r\") as file:\n",
    "    text = csv.reader(file)\n",
    "    for line in text:\n",
    "        data.append(line)\n",
    "    file.close()\n",
    "\n",
    "# view data head\n",
    "data[0:5]"
   ]
  },
  {
   "cell_type": "code",
   "execution_count": 312,
   "metadata": {},
   "outputs": [],
   "source": [
    "# remove header to avoid confusion\n",
    "del data[0]"
   ]
  },
  {
   "cell_type": "code",
   "execution_count": 313,
   "metadata": {},
   "outputs": [],
   "source": [
    "# init variables\n",
    "months = 0\n",
    "net_income = 0\n",
    "greatest_increase = 0\n",
    "greatest_decrease = 0\n",
    "average_change = 0\n",
    "change_list = []"
   ]
  },
  {
   "cell_type": "code",
   "execution_count": 314,
   "metadata": {},
   "outputs": [
    {
     "data": {
      "text/plain": [
       "86"
      ]
     },
     "execution_count": 314,
     "metadata": {},
     "output_type": "execute_result"
    }
   ],
   "source": [
    "# total months is the length of data\n",
    "months = len(data)\n",
    "months"
   ]
  },
  {
   "cell_type": "code",
   "execution_count": 315,
   "metadata": {},
   "outputs": [
    {
     "data": {
      "text/plain": [
       "[0, 116771, -662642, -391430, 379920]"
      ]
     },
     "execution_count": 315,
     "metadata": {},
     "output_type": "execute_result"
    }
   ],
   "source": [
    "# loop over data\n",
    "for x, row in enumerate(data):\n",
    "\n",
    "    # convert p/l to int for calculations\n",
    "    row[1] = int(row[1])\n",
    "\n",
    "    # sum p/l to calculate net income\n",
    "    net_income += row[1]\n",
    "\n",
    "    # get the change of p/l (month_n - month_n-1), append to empty list.\n",
    "    current_value = row [1]\n",
    "    previous_value = data[x-1][1]\n",
    "    if x == 0:\n",
    "        change = 0\n",
    "    else:\n",
    "        change = current_value-previous_value\n",
    "    # append outside of if/else statement to ensure both lists are the same size.\n",
    "    change_list.append(change)\n",
    "\n",
    "change_list[0:5]"
   ]
  },
  {
   "cell_type": "code",
   "execution_count": 316,
   "metadata": {},
   "outputs": [
    {
     "data": {
      "text/plain": [
       "-2315.1176470588234"
      ]
     },
     "execution_count": 316,
     "metadata": {},
     "output_type": "execute_result"
    }
   ],
   "source": [
    "#find average of change in p/l excluding first month\n",
    "average_change = sum(change_list)/(len(change_list)-1)\n",
    "average_change"
   ]
  },
  {
   "cell_type": "code",
   "execution_count": 317,
   "metadata": {},
   "outputs": [
    {
     "data": {
      "text/plain": [
       "1926159"
      ]
     },
     "execution_count": 317,
     "metadata": {},
     "output_type": "execute_result"
    }
   ],
   "source": [
    "# locate the max values in change_list, find associated month in data\n",
    "gi = max(change_list)\n",
    "gi_index = change_list.index(gi)\n",
    "gi_month = data[gi_index][0]\n",
    "gi"
   ]
  },
  {
   "cell_type": "code",
   "execution_count": 318,
   "metadata": {},
   "outputs": [
    {
     "data": {
      "text/plain": [
       "-2196167"
      ]
     },
     "execution_count": 318,
     "metadata": {},
     "output_type": "execute_result"
    }
   ],
   "source": [
    "# repeat previous cell for min value\n",
    "gd = min(change_list)\n",
    "gd_index = change_list.index(gi)\n",
    "gd_month = data[gi_index][0]\n",
    "gd"
   ]
  },
  {
   "cell_type": "code",
   "execution_count": null,
   "metadata": {},
   "outputs": [],
   "source": [
    "# prepare report\n"
   ]
  }
 ],
 "metadata": {
  "interpreter": {
   "hash": "097c1c50147d69c70dea14784d774fa19f0c571c55d8af2791c45a24b5968fed"
  },
  "kernelspec": {
   "display_name": "Python 3.7.11 ('dev')",
   "language": "python",
   "name": "python3"
  },
  "language_info": {
   "codemirror_mode": {
    "name": "ipython",
    "version": 3
   },
   "file_extension": ".py",
   "mimetype": "text/x-python",
   "name": "python",
   "nbconvert_exporter": "python",
   "pygments_lexer": "ipython3",
   "version": "3.7.11"
  },
  "orig_nbformat": 4
 },
 "nbformat": 4,
 "nbformat_minor": 2
}
