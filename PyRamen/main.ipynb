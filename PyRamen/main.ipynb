{
 "cells": [
  {
   "cell_type": "code",
   "execution_count": 66,
   "metadata": {},
   "outputs": [],
   "source": [
    "# imports\n",
    "import csv\n",
    "from pathlib import Path"
   ]
  },
  {
   "cell_type": "code",
   "execution_count": 67,
   "metadata": {},
   "outputs": [],
   "source": [
    "# function for reading data\n",
    "def read_csv(filepath):\n",
    "    ''' Reads a csv file and returns a list of lists containing the text data as strings.\n",
    "\n",
    "    filepath (str) = path to csv file\n",
    "    '''\n",
    "    output = []\n",
    "    with open (filepath, 'r') as file:\n",
    "        text = csv.reader(file)\n",
    "        for line in text:\n",
    "            output.append(line)\n",
    "    file.close()\n",
    "    return output\n",
    "\n"
   ]
  },
  {
   "cell_type": "code",
   "execution_count": 68,
   "metadata": {},
   "outputs": [
    {
     "data": {
      "text/plain": [
       "[['item', 'category', 'description', 'price', 'cost'],\n",
       " ['edamame', 'appetizers', 'boiled soybeans, maldon sea salt', '4', '1']]"
      ]
     },
     "execution_count": 68,
     "metadata": {},
     "output_type": "execute_result"
    }
   ],
   "source": [
    "# read both datasets\n",
    "menu = read_csv(\"Resources/menu_data.csv\")\n",
    "menu [0:2]"
   ]
  },
  {
   "cell_type": "code",
   "execution_count": 69,
   "metadata": {},
   "outputs": [
    {
     "data": {
      "text/plain": [
       "[['Line_Item_ID', 'Date', 'Credit_Card_Number', 'Quantity', 'Menu_Item'],\n",
       " ['1', '01-01-2017', '7437926611570799', '1', 'spicy miso ramen'],\n",
       " ['2', '01-01-2017', '7437926611570799', '1', 'spicy miso ramen'],\n",
       " ['3', '01-01-2017', '8421920068932819', '3', 'tori paitan ramen'],\n",
       " ['4', '01-01-2017', '8421920068932819', '3', 'tori paitan ramen']]"
      ]
     },
     "execution_count": 69,
     "metadata": {},
     "output_type": "execute_result"
    }
   ],
   "source": [
    "sales = read_csv(\"Resources/sales_data.csv\")\n",
    "sales[0:5]"
   ]
  },
  {
   "cell_type": "code",
   "execution_count": 70,
   "metadata": {},
   "outputs": [],
   "source": [
    "# make report dict\n",
    "report = {}"
   ]
  },
  {
   "cell_type": "code",
   "execution_count": 71,
   "metadata": {},
   "outputs": [
    {
     "data": {
      "text/plain": [
       "{'spicy miso ramen': {'01-count': 9238,\n",
       "  '02-revenue': 129328,\n",
       "  '03-cogs': 64662,\n",
       "  '04-profit': 64666},\n",
       " 'tori paitan ramen': {'01-count': 9156,\n",
       "  '02-revenue': 128178,\n",
       "  '03-cogs': 64086,\n",
       "  '04-profit': 64092},\n",
       " 'truffle butter ramen': {'01-count': 8982,\n",
       "  '02-revenue': 125748,\n",
       "  '03-cogs': 62874,\n",
       "  '04-profit': 62874},\n",
       " 'tonkotsu ramen': {'01-count': 9288,\n",
       "  '02-revenue': 130032,\n",
       "  '03-cogs': 65016,\n",
       "  '04-profit': 65016},\n",
       " 'vegetarian spicy miso': {'01-count': 9216,\n",
       "  '02-revenue': 129024,\n",
       "  '03-cogs': 64512,\n",
       "  '04-profit': 64512},\n",
       " 'shio ramen': {'01-count': 9180,\n",
       "  '02-revenue': 128520,\n",
       "  '03-cogs': 64260,\n",
       "  '04-profit': 64260},\n",
       " 'miso crab ramen': {'01-count': 8890,\n",
       "  '02-revenue': 124460,\n",
       "  '03-cogs': 62230,\n",
       "  '04-profit': 62230},\n",
       " 'nagomi shoyu': {'01-count': 9132,\n",
       "  '02-revenue': 127848,\n",
       "  '03-cogs': 63924,\n",
       "  '04-profit': 63924},\n",
       " 'soft-shell miso crab ramen': {'01-count': 9130,\n",
       "  '02-revenue': 127820,\n",
       "  '03-cogs': 63910,\n",
       "  '04-profit': 63910},\n",
       " 'burnt garlic tonkotsu ramen': {'01-count': 9070,\n",
       "  '02-revenue': 126980,\n",
       "  '03-cogs': 63490,\n",
       "  '04-profit': 63490},\n",
       " 'vegetarian curry + king trumpet mushroom ramen': {'01-count': 8824,\n",
       "  '02-revenue': 123536,\n",
       "  '03-cogs': 61768,\n",
       "  '04-profit': 61768}}"
      ]
     },
     "execution_count": 71,
     "metadata": {},
     "output_type": "execute_result"
    }
   ],
   "source": [
    "for i, sales_item in enumerate(sales):\n",
    "    if i != 0:\n",
    "        quantity = int(sales_item[3])\n",
    "        menu_item = sales_item[4]\n",
    "        if menu_item not in report:\n",
    "            report[menu_item] = {\"01-count\": 0,\"02-revenue\": 0,\"03-cogs\": 0,\"04-profit\": 0}\n",
    "\n",
    "        for x, row in enumerate(menu):\n",
    "            if row[0] in report and x != 0:\n",
    "                price = int(row[3])\n",
    "                cost = int(row[4])\n",
    "                profit = price - cost \n",
    "        report[menu_item][\"01-count\"] += quantity\n",
    "        report[menu_item][\"02-revenue\"] += price * quantity\n",
    "        report[menu_item][\"03-cogs\"] += cost * quantity\n",
    "        report[menu_item][\"04-profit\"] += profit * quantity\n",
    "report"
   ]
  },
  {
   "cell_type": "code",
   "execution_count": null,
   "metadata": {},
   "outputs": [],
   "source": [
    "\n"
   ]
  }
 ],
 "metadata": {
  "interpreter": {
   "hash": "097c1c50147d69c70dea14784d774fa19f0c571c55d8af2791c45a24b5968fed"
  },
  "kernelspec": {
   "display_name": "Python 3.7.11 ('dev')",
   "language": "python",
   "name": "python3"
  },
  "language_info": {
   "codemirror_mode": {
    "name": "ipython",
    "version": 3
   },
   "file_extension": ".py",
   "mimetype": "text/x-python",
   "name": "python",
   "nbconvert_exporter": "python",
   "pygments_lexer": "ipython3",
   "version": "3.7.11"
  },
  "orig_nbformat": 4
 },
 "nbformat": 4,
 "nbformat_minor": 2
}
