{
 "cells": [
  {
   "cell_type": "code",
   "execution_count": 1,
   "metadata": {},
   "outputs": [],
   "source": [
    "# imports\n",
    "import csv\n",
    "from pathlib import Path"
   ]
  },
  {
   "cell_type": "code",
   "execution_count": 2,
   "metadata": {},
   "outputs": [],
   "source": [
    "# function for reading data\n",
    "def read_csv(filepath):\n",
    "    ''' Reads a csv file and returns a list of lists containing the text data as strings.\n",
    "\n",
    "    filepath (str) = path to csv file\n",
    "    '''\n",
    "    output = []\n",
    "    with open (filepath, 'r') as file:\n",
    "        text = csv.reader(file)\n",
    "        for line in text:\n",
    "            output.append(line)\n",
    "    file.close()\n",
    "    return output\n",
    "\n"
   ]
  },
  {
   "cell_type": "code",
   "execution_count": 3,
   "metadata": {},
   "outputs": [
    {
     "data": {
      "text/plain": [
       "[['item', 'category', 'description', 'price', 'cost'],\n",
       " ['edamame', 'appetizers', 'boiled soybeans, maldon sea salt', '4', '1']]"
      ]
     },
     "execution_count": 3,
     "metadata": {},
     "output_type": "execute_result"
    }
   ],
   "source": [
    "# read both datasets\n",
    "menu = read_csv(\"Resources/menu_data.csv\")\n",
    "menu [0:2]"
   ]
  },
  {
   "cell_type": "code",
   "execution_count": 4,
   "metadata": {},
   "outputs": [
    {
     "data": {
      "text/plain": [
       "[['Line_Item_ID', 'Date', 'Credit_Card_Number', 'Quantity', 'Menu_Item'],\n",
       " ['1', '01-01-2017', '7437926611570799', '1', 'spicy miso ramen'],\n",
       " ['2', '01-01-2017', '7437926611570799', '1', 'spicy miso ramen'],\n",
       " ['3', '01-01-2017', '8421920068932819', '3', 'tori paitan ramen'],\n",
       " ['4', '01-01-2017', '8421920068932819', '3', 'tori paitan ramen']]"
      ]
     },
     "execution_count": 4,
     "metadata": {},
     "output_type": "execute_result"
    }
   ],
   "source": [
    "sales = read_csv(\"Resources/sales_data.csv\")\n",
    "sales[0:5]"
   ]
  },
  {
   "cell_type": "code",
   "execution_count": 15,
   "metadata": {},
   "outputs": [],
   "source": [
    "# init variables\n",
    "count = 0\n",
    "revenue = 0\n",
    "cogs = 0\n",
    "profit = 0\n",
    "report = {}\n",
    "\n",
    "# loop over sales data, slice out header\n",
    "for sale in sales[1:]:\n",
    "\n",
    "    # get quantity and item\n",
    "    quantity = int(sale[3])\n",
    "    menu_item = sale[4]\n",
    "\n",
    "    # make empty report dict\n",
    "    if menu_item not in report:\n",
    "        report[menu_item] = {\"01-count\": 0,\"02-revenue\": 0,\"03-cogs\": 0,\"04-profit\": 0}\n",
    "\n",
    "    # loop over menu data,  slice out header\n",
    "    for food in menu[1:]:\n",
    "\n",
    "        # variables\n",
    "        item = food[0]\n",
    "        price = float(food[3])\n",
    "        cost = int(food[4])\n",
    "        profit = price - cost\n",
    "\n",
    "        # include only items seen in sales data to add to report dict\n",
    "        if menu_item == item:\n",
    "\n",
    "            # cumulatively add values to dict\n",
    "            report[menu_item][\"01-count\"] += quantity\n",
    "            report[menu_item][\"02-revenue\"] += (price * quantity)\n",
    "            report[menu_item][\"03-cogs\"] += (cost * quantity)\n",
    "            report[menu_item][\"04-profit\"] += profit * quantity\n"
   ]
  },
  {
   "cell_type": "code",
   "execution_count": 17,
   "metadata": {},
   "outputs": [],
   "source": [
    "# save report as .txt\n",
    "with open('Report/Analysis.txt', 'w') as file2:\n",
    "    file2.write(str(report))\n",
    "    file2.close()"
   ]
  },
  {
   "cell_type": "code",
   "execution_count": 20,
   "metadata": {},
   "outputs": [],
   "source": [
    "# save report as .csv\n",
    "with open('Report/Analysis.csv', 'w') as file3:  \n",
    "    writer = csv.writer(file3)\n",
    "    for key, value in report.items():\n",
    "       writer.writerow([key, value])\n",
    "    file3.close()"
   ]
  }
 ],
 "metadata": {
  "interpreter": {
   "hash": "097c1c50147d69c70dea14784d774fa19f0c571c55d8af2791c45a24b5968fed"
  },
  "kernelspec": {
   "display_name": "Python 3.7.11 ('dev')",
   "language": "python",
   "name": "python3"
  },
  "language_info": {
   "codemirror_mode": {
    "name": "ipython",
    "version": 3
   },
   "file_extension": ".py",
   "mimetype": "text/x-python",
   "name": "python",
   "nbconvert_exporter": "python",
   "pygments_lexer": "ipython3",
   "version": "3.7.11"
  },
  "orig_nbformat": 4
 },
 "nbformat": 4,
 "nbformat_minor": 2
}
